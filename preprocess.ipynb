{
 "cells": [
  {
   "cell_type": "code",
   "execution_count": 1,
   "metadata": {},
   "outputs": [
    {
     "name": "stdout",
     "output_type": "stream",
     "text": [
      "Found 1276 MIDI files.\n"
     ]
    }
   ],
   "source": [
    "import os\n",
    "import glob\n",
    "\n",
    "# Function to get all MIDI files from multiple folders\n",
    "def get_midi_files(base_dir):\n",
    "    midi_files = []\n",
    "\n",
    "    for folder in os.listdir(base_dir):\n",
    "        folder_path = os.path.join(base_dir, folder)\n",
    "        if os.path.isdir(folder_path):  # Check if it's a directory\n",
    "            midi_files.extend(glob.glob(os.path.join(folder_path, '*.midi')))  # Get all .mid files in the folder\n",
    "\n",
    "    return midi_files\n",
    "\n",
    "# Example usage\n",
    "base_dir = 'maestro-v3.0.0'  # Parent folder containing subfolders with MIDI files\n",
    "midi_files = get_midi_files(base_dir)\n",
    "\n",
    "print(f\"Found {len(midi_files)} MIDI files.\")"
   ]
  },
  {
   "cell_type": "code",
   "execution_count": 2,
   "metadata": {},
   "outputs": [
    {
     "name": "stdout",
     "output_type": "stream",
     "text": [
      "Processed 7040164 notes from all MIDI files.\n"
     ]
    }
   ],
   "source": [
    "import pretty_midi\n",
    "\n",
    "# Function to process a single MIDI file and extract notes\n",
    "def process_midi_file(midi_file):\n",
    "    midi = pretty_midi.PrettyMIDI(midi_file)\n",
    "    \n",
    "    # Get the first instrument (usually the piano)\n",
    "    piano = midi.instruments[0]  # If it's not piano, you can modify this later\n",
    "\n",
    "    # Extract notes: pitch, start time, end time, and velocity\n",
    "    notes = []\n",
    "    for note in piano.notes:\n",
    "        notes.append({\n",
    "            'start': note.start,  # Note start time\n",
    "            'end': note.end,      # Note end time\n",
    "            'pitch': note.pitch,  # MIDI pitch (note)\n",
    "            'velocity': note.velocity  # Note velocity (how hard it was played)\n",
    "        })\n",
    "    return notes\n",
    "\n",
    "# Example: Process all MIDI files and store the notes\n",
    "all_notes = []\n",
    "for i, midi_file in enumerate(midi_files):\n",
    "    notes = process_midi_file(midi_file)\n",
    "    all_notes.extend(notes)  # Collect all the notes\n",
    "\n",
    "print(f\"Processed {len(all_notes)} notes from all MIDI files.\")\n"
   ]
  },
  {
   "cell_type": "code",
   "execution_count": 3,
   "metadata": {},
   "outputs": [
    {
     "ename": "",
     "evalue": "",
     "output_type": "error",
     "traceback": [
      "\u001b[1;31mThe Kernel crashed while executing code in the current cell or a previous cell. \n",
      "\u001b[1;31mPlease review the code in the cell(s) to identify a possible cause of the failure. \n",
      "\u001b[1;31mClick <a href='https://aka.ms/vscodeJupyterKernelCrash'>here</a> for more info. \n",
      "\u001b[1;31mView Jupyter <a href='command:jupyter.viewOutput'>log</a> for further details."
     ]
    }
   ],
   "source": [
    "import numpy as np\n",
    "np.save('notes.npy', all_notes)"
   ]
  }
 ],
 "metadata": {
  "kernelspec": {
   "display_name": "venv",
   "language": "python",
   "name": "python3"
  },
  "language_info": {
   "codemirror_mode": {
    "name": "ipython",
    "version": 3
   },
   "file_extension": ".py",
   "mimetype": "text/x-python",
   "name": "python",
   "nbconvert_exporter": "python",
   "pygments_lexer": "ipython3",
   "version": "3.12.8"
  }
 },
 "nbformat": 4,
 "nbformat_minor": 2
}
